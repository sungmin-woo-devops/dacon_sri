{
 "cells": [
  {
   "cell_type": "markdown",
   "id": "fa5e9cbd",
   "metadata": {},
   "source": [
    "# 20_ordinal_nonlikert — 비-Likert 순서형"
   ]
  },
  {
   "cell_type": "code",
   "execution_count": null,
   "id": "c568c784",
   "metadata": {},
   "outputs": [],
   "source": [
    "%run 00_config.ipynb\n",
    "import pandas as pd, numpy as np\n",
    "\n",
    "def reverse(series, max_scale): return max_scale + 1 - series\n",
    "def wprop(series, w):\n",
    "    s = series.dropna()\n",
    "    w = w.loc[s.index]\n",
    "    tot = w.sum()\n",
    "    if tot<=0: return pd.Series(dtype=float)\n",
    "    return (w.groupby(s).sum()/tot*100).sort_index()\n",
    "\n",
    "df = pd.read_excel(DATA_PATH)\n",
    "w = choose_weight(df)\n",
    "\n",
    "onl = df.copy()[ONL_VARS]\n",
    "\n",
    "# DK 처리\n",
    "for col, dk in ONL_DK.items():\n",
    "    if col in onl.columns:\n",
    "        onl[col] = onl[col].where(onl[col] != dk, pd.NA)\n",
    "\n",
    "# 역코딩\n",
    "for col, mx in ONL_REVERSE.items():\n",
    "    if col in onl.columns:\n",
    "        onl[col] = reverse(onl[col], mx)\n",
    "\n",
    "# 파생\n",
    "onl[\"q12_pos\"] = onl[\"q12\"] if \"q12\" in onl.columns else np.nan\n",
    "if \"q13\" in onl.columns:\n",
    "    onl[\"q13_bin\"] = onl[\"q13\"].map(lambda x: 1 if x==1 else (0 if pd.notna(x) else pd.NA))\n",
    "\n",
    "# 요약\n",
    "rows = []\n",
    "for col in [\"q4\",\"q8\",\"q12\",\"DM4\",\"DM10\"]:\n",
    "    if col not in onl.columns: continue\n",
    "    ws = wprop(onl[col], w)\n",
    "    us = (onl[col].value_counts(dropna=True, normalize=True)*100).round(2)\n",
    "    for lvl, pct in ws.items():\n",
    "        rows.append({\"variable\": col, \"level\": lvl, \"weighted_%\": round(pct,2)})\n",
    "    for lvl, pct in us.items():\n",
    "        rows.append({\"variable\": col, \"level\": lvl, \"unweighted_%\": pct})\n",
    "\n",
    "summary = pd.DataFrame(rows).groupby([\"variable\",\"level\"], as_index=False).sum(numeric_only=True)\\\n",
    "                            .sort_values([\"variable\",\"level\"])\n",
    "\n",
    "summary.to_csv(OUT_DIR/\"ordinal_nonlikert_summary.csv\", index=False, encoding=\"utf-8-sig\")\n",
    "onl.to_csv(OUT_DIR/\"ordinal_nonlikert_encoded.csv\", index=False, encoding=\"utf-8-sig\")\n",
    "summary.head(20)\n"
   ]
  }
 ],
 "metadata": {
  "kernelspec": {
   "display_name": "venv",
   "language": "python",
   "name": "python3"
  },
  "language_info": {
   "name": "python",
   "version": "3.13.6"
  }
 },
 "nbformat": 4,
 "nbformat_minor": 5
}
