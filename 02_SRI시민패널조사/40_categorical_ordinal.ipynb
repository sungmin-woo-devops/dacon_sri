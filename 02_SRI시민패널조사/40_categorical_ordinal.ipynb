{
 "cells": [
  {
   "cell_type": "markdown",
   "id": "8bd96d14",
   "metadata": {},
   "source": [
    "# 40_categorical_ordinal — 범주형-서열형(일반)"
   ]
  },
  {
   "cell_type": "code",
   "execution_count": null,
   "id": "3bab6e53",
   "metadata": {},
   "outputs": [],
   "source": [
    "\n",
    "%run 00_config.ipynb\n",
    "import pandas as pd, numpy as np\n",
    "from scipy.stats import spearmanr\n",
    "\n",
    "df = pd.read_excel(DATA_PATH)\n",
    "w = choose_weight(df)\n",
    "\n",
    "# 서열 변수\n",
    "CATEGORICAL_ORDINAL_VARS = [\n",
    "    \"q1\",\"q2\",\"q3\",\"q4\",\"q5_1\",\"q5_2\",\"q5_3\",\"q5_4\",\"q5_5\",\"q7\",\"q8\",\"q12\",\"q13\",\"DM4\",\"DM10\"\n",
    "]\n",
    "CATEGORICAL_ORDINAL_VARS = [c for c in CATEGORICAL_ORDINAL_VARS if c in df.columns]\n",
    "\n",
    "def wprop(series, w):\n",
    "    s = series.dropna()\n",
    "    w = w.loc[s.index]\n",
    "    tot = w.sum()\n",
    "    if tot<=0: return pd.Series(dtype=float)\n",
    "    return (w.groupby(s).sum()/tot*100).sort_index()\n",
    "\n",
    "# 가중/비가중 분포\n",
    "rows = []\n",
    "for col in CATEGORICAL_ORDINAL_VARS:\n",
    "    ws = wprop(df[col], w)\n",
    "    us = (df[col].value_counts(dropna=True, normalize=True)*100).round(2)\n",
    "    for lvl, pct in ws.items():\n",
    "        rows.append({\"variable\": col, \"level\": lvl, \"weighted_%\": round(pct,2)})\n",
    "    for lvl, pct in us.items():\n",
    "        rows.append({\"variable\": col, \"level\": lvl, \"unweighted_%\": pct})\n",
    "ord_summary = pd.DataFrame(rows).groupby([\"variable\",\"level\"], as_index=False).sum(numeric_only=True)\\\n",
    "                                .sort_values([\"variable\",\"level\"])\n",
    "ord_summary.to_csv(OUT_DIR/\"categorical_ordinal_summary.csv\", index=False, encoding=\"utf-8-sig\")\n",
    "\n",
    "# Spearman(q3, q7)\n",
    "rows = []\n",
    "for v in CATEGORICAL_ORDINAL_VARS:\n",
    "    for tname, tvar in {\"SAT_CITY\":\"q3\",\"SAT_COUNCIL\":\"q7\"}.items():\n",
    "        if v not in df.columns or tvar not in df.columns: continue\n",
    "        m = df[v].notna() & df[tvar].notna()\n",
    "        if m.sum()<3:\n",
    "            rho, p = (np.nan, np.nan)\n",
    "        else:\n",
    "            rho, p = spearmanr(df.loc[m, v], df.loc[m, tvar])\n",
    "        rows.append({\"var\": v, \"target\": tname, \"spearman_rho\": rho, \"p_value\": p, \"n\": int(m.sum())})\n",
    "ord_corr = pd.DataFrame(rows).sort_values([\"target\",\"var\"])\n",
    "ord_corr.to_csv(OUT_DIR/\"categorical_ordinal_spearman.csv\", index=False, encoding=\"utf-8-sig\")\n",
    "\n",
    "ord_summary.head(10)\n"
   ]
  }
 ],
 "metadata": {
  "kernelspec": {
   "display_name": "venv",
   "language": "python",
   "name": "python3"
  },
  "language_info": {
   "name": "python",
   "version": "3.13.6"
  }
 },
 "nbformat": 4,
 "nbformat_minor": 5
}
