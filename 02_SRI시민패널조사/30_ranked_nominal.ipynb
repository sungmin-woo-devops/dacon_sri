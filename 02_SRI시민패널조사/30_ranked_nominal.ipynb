{
 "cells": [
  {
   "cell_type": "markdown",
   "id": "1515c547",
   "metadata": {},
   "source": [
    "# 30_ranked_nominal — 순위형 + 명목형(요약)"
   ]
  },
  {
   "cell_type": "code",
   "execution_count": null,
   "id": "d0590537",
   "metadata": {},
   "outputs": [],
   "source": [
    "%run 00_config.ipynb\n",
    "import pandas as pd, numpy as np\n",
    "\n",
    "def wprop(series, w):\n",
    "    s = series.dropna()\n",
    "    w = w.loc[s.index]\n",
    "    tot = w.sum()\n",
    "    if tot<=0: return pd.Series(dtype=float)\n",
    "    return (w.groupby(s).sum()/tot*100).sort_index()\n",
    "\n",
    "df = pd.read_excel(DATA_PATH)\n",
    "w = choose_weight(df)\n",
    "\n",
    "# Ranked\n",
    "rank = df.copy()[RANK_VARS]\n",
    "def to_score(s, weights): return s.map(PRIORITY_WEIGHT)\n",
    "\n",
    "for c in RANK_VARS:\n",
    "    if c in rank.columns:\n",
    "        rank[f\"{c}_score\"] = to_score(rank[c], PRIORITY_WEIGHT)\n",
    "\n",
    "rows = []\n",
    "for c in RANK_VARS:\n",
    "    sc = f\"{c}_score\"\n",
    "    if sc not in rank.columns: continue\n",
    "    valid = rank[sc].notna()\n",
    "    w_mean = np.average(rank.loc[valid, sc], weights=w.loc[valid]) if valid.any() else np.nan\n",
    "    u_mean = rank[sc].mean()\n",
    "    rows.append({\"variable\": c, \"weighted_mean_score\": round(float(w_mean),3) if pd.notna(w_mean) else np.nan,\n",
    "                 \"unweighted_mean_score\": round(float(u_mean),3) if pd.notna(u_mean) else np.nan})\n",
    "\n",
    "rank_summary = pd.DataFrame(rows).sort_values(\"variable\")\n",
    "rank_summary.to_csv(OUT_DIR/\"ranked_summary.csv\", index=False, encoding=\"utf-8-sig\")\n",
    "\n",
    "# Nominal(요약) — 간단 분포\n",
    "nom_list = var_types[\"categorical-nominal\"][\"questions\"]\n",
    "rows = []\n",
    "for col in nom_list:\n",
    "    if col not in df.columns: continue\n",
    "    ws = wprop(df[col], w)\n",
    "    us = (df[col].value_counts(dropna=True, normalize=True)*100).round(2)\n",
    "    for lvl, pct in ws.items():\n",
    "        rows.append({\"variable\": col, \"level\": lvl, \"weighted_%\": round(pct,2)})\n",
    "    for lvl, pct in us.items():\n",
    "        rows.append({\"variable\": col, \"level\": lvl, \"unweighted_%\": pct})\n",
    "\n",
    "nom_summary = pd.DataFrame(rows).groupby([\"variable\",\"level\"], as_index=False).sum(numeric_only=True)\\\n",
    "                                .sort_values([\"variable\",\"level\"])\n",
    "nom_summary.to_csv(OUT_DIR/\"categorical_nominal_summary_quick.csv\", index=False, encoding=\"utf-8-sig\")\n",
    "\n",
    "rank_summary.head(10)\n"
   ]
  }
 ],
 "metadata": {
  "kernelspec": {
   "display_name": "venv",
   "language": "python",
   "name": "python3"
  },
  "language_info": {
   "name": "python",
   "version": "3.13.6"
  }
 },
 "nbformat": 4,
 "nbformat_minor": 5
}
