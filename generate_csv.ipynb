{
 "cells": [
  {
   "cell_type": "code",
   "execution_count": 1,
   "id": "70766920",
   "metadata": {},
   "outputs": [
    {
     "name": "stdout",
     "output_type": "stream",
     "text": [
      "변환 완료: (공개용) 2024년 3분기 패널조사 데이터(가중치).jsonl -> (공개용) 2024년 3분기 패널조사 데이터(가중치).csv\n",
      "변환 완료: (공개용) 2024년 4분기 패널조사 데이터(가중치).jsonl -> (공개용) 2024년 4분기 패널조사 데이터(가중치).csv\n",
      "변환 완료: (공개용) 2025년 1분기 패널조사 데이터(가중치).jsonl -> (공개용) 2025년 1분기 패널조사 데이터(가중치).csv\n",
      "변환 완료: (공개용) 2025년 2분기 패널조사 데이터(가중치).jsonl -> (공개용) 2025년 2분기 패널조사 데이터(가중치).csv\n",
      "변환 완료: ALL_quarters_panel.jsonl -> ALL_quarters_panel.csv\n",
      "모든 JSONL → CSV 변환 완료\n"
     ]
    }
   ],
   "source": [
    "import pandas as pd\n",
    "from pathlib import Path\n",
    "\n",
    "# 경로 설정\n",
    "base_dir = Path(\"D:/workspace/Bus_suwon/output\")\n",
    "jsonl_dir = base_dir / \"jsonl\"\n",
    "csv_dir = base_dir / \"csv\"\n",
    "\n",
    "# CSV 디렉토리 생성\n",
    "csv_dir.mkdir(parents=True, exist_ok=True)\n",
    "\n",
    "# jsonl 디렉토리 내 모든 파일 처리\n",
    "for jsonl_file in jsonl_dir.glob(\"*.jsonl\"):\n",
    "    df = pd.read_json(jsonl_file, lines=True)\n",
    "    \n",
    "    # CSV 경로 지정 (이름 동일, 확장자만 변경)\n",
    "    csv_path = csv_dir / (jsonl_file.stem + \".csv\")\n",
    "    \n",
    "    # CSV 저장 (UTF-8 BOM)\n",
    "    df.to_csv(csv_path, index=False, encoding=\"utf-8-sig\")\n",
    "    \n",
    "    print(f\"변환 완료: {jsonl_file.name} -> {csv_path.name}\")\n",
    "\n",
    "print(\"모든 JSONL → CSV 변환 완료\")"
   ]
  },
  {
   "cell_type": "code",
   "execution_count": null,
   "id": "32ae541e",
   "metadata": {},
   "outputs": [],
   "source": []
  }
 ],
 "metadata": {
  "kernelspec": {
   "display_name": "venv",
   "language": "python",
   "name": "python3"
  },
  "language_info": {
   "codemirror_mode": {
    "name": "ipython",
    "version": 3
   },
   "file_extension": ".py",
   "mimetype": "text/x-python",
   "name": "python",
   "nbconvert_exporter": "python",
   "pygments_lexer": "ipython3",
   "version": "3.10.11"
  }
 },
 "nbformat": 4,
 "nbformat_minor": 5
}
