{
 "cells": [
  {
   "cell_type": "code",
   "execution_count": 20,
   "id": "9740d239",
   "metadata": {},
   "outputs": [],
   "source": [
    "import os\n",
    "import re\n",
    "import json\n",
    "import pandas as pd\n",
    "from pathlib import Path"
   ]
  },
  {
   "cell_type": "code",
   "execution_count": 32,
   "id": "962f4286",
   "metadata": {},
   "outputs": [
    {
     "name": "stdout",
     "output_type": "stream",
     "text": [
      "d:\\workspace\\Bus_suwon\n",
      "d:\\workspace\\Bus_suwon\\data\n",
      "d:\\workspace\\Bus_suwon\\data\\internal\n",
      "d:\\workspace\\Bus_suwon\\data\\internal\\2. SRI시민패널조사\n"
     ]
    }
   ],
   "source": [
    "PROJECT_DIR_PATH = Path.cwd()\n",
    "DATA_DIR_PATH = PROJECT_DIR_PATH / \"data\"\n",
    "INTERNAL_DATA_DIR_PATH = DATA_DIR_PATH / \"internal\"\n",
    "PANEL_DATA_DIR_PATH = INTERNAL_DATA_DIR_PATH / \"2. SRI시민패널조사\"\n",
    "\n",
    "print(PROJECT_DIR_PATH)\n",
    "print(DATA_DIR_PATH)\n",
    "print(INTERNAL_DATA_DIR_PATH)\n",
    "print(PANEL_DATA_DIR_PATH)"
   ]
  },
  {
   "cell_type": "code",
   "execution_count": 33,
   "id": "e72291bd",
   "metadata": {},
   "outputs": [
    {
     "name": "stdout",
     "output_type": "stream",
     "text": [
      "d:\\workspace\\Bus_suwon\\data\\internal\\2. SRI시민패널조사\\2024년 3분기 패널조사\\2024년 3분기 패널조사 데이터_코드북.xlsx -> True\n",
      "d:\\workspace\\Bus_suwon\\data\\internal\\2. SRI시민패널조사\\2024년 4분기 패널조사\\2024년 4분기 패널조사 데이터_코드북.xlsx -> True\n",
      "d:\\workspace\\Bus_suwon\\data\\internal\\2. SRI시민패널조사\\2025년 1분기 패널조사\\2025년 1분기 패널조사_코드북.xlsx -> True\n",
      "d:\\workspace\\Bus_suwon\\data\\internal\\2. SRI시민패널조사\\2025년 2분기 패널조사\\2025년 2분기 패널조사_코드북.xlsx -> True\n"
     ]
    }
   ],
   "source": [
    "# 1) 경로 정의 (앞에 슬래시 금지!)\n",
    "files = [\n",
    "    (\"2024년 3분기 패널조사\", \"2024년 3분기 패널조사 데이터_코드북.xlsx\"),\n",
    "    (\"2024년 4분기 패널조사\", \"2024년 4분기 패널조사 데이터_코드북.xlsx\"),\n",
    "    (\"2025년 1분기 패널조사\", \"2025년 1분기 패널조사_코드북.xlsx\"),\n",
    "    (\"2025년 2분기 패널조사\", \"2025년 2분기 패널조사_코드북.xlsx\"),\n",
    "]\n",
    "\n",
    "file_paths = [PANEL_DATA_DIR_PATH / subdir / fname for subdir, fname in files]\n",
    "\n",
    "# 2) 존재 확인\n",
    "for p in file_paths:\n",
    "    print(p, \"->\", p.exists())\n",
    "\n",
    "# 3) JSON 출력 디렉터리\n",
    "out_dir = PROJECT_DIR_PATH / \"output\" / \"codebooks\"\n",
    "out_dir.mkdir(parents=True, exist_ok=True)\n"
   ]
  },
  {
   "cell_type": "code",
   "execution_count": 41,
   "id": "0f12be1f",
   "metadata": {},
   "outputs": [],
   "source": [
    "# 원형 숫자 → 숫자\n",
    "circled_map = str.maketrans({\n",
    "    '①':'1','②':'2','③':'3','④':'4','⑤':'5','⑥':'6','⑦':'7','⑧':'8','⑨':'9','⑩':'10',\n",
    "    '⑪':'11','⑫':'12','⑬':'13','⑭':'14','⑮':'15','⑯':'16','⑰':'17','⑱':'18','⑲':'19','⑳':'20'\n",
    "})\n",
    "def norm_text(s: str) -> str:\n",
    "    if s is None:\n",
    "        return \"\"\n",
    "    s = str(s)\n",
    "    if s.lower() == \"nan\":\n",
    "        return \"\"\n",
    "    s = s.replace(\"\\r\\n\", \"\\n\").replace(\"\\r\", \"\\n\").translate(circled_map)\n",
    "    s = re.sub(r\"[ \\t]+\", \" \", s)\n",
    "    return s.strip()"
   ]
  },
  {
   "cell_type": "code",
   "execution_count": 42,
   "id": "b8765259",
   "metadata": {},
   "outputs": [],
   "source": [
    "# \"1 내용\", \"1) 내용\", \"1. 내용\", \"1 - 내용\" 등\n",
    "CHOICE_LINE = re.compile(r\"^\\s*(\\d{1,3})[)\\.\\-]?\\s*(.+?)\\s*$\")\n",
    "def parse_choices(text):\n",
    "    text = norm_text(text)\n",
    "    if not text: return []\n",
    "    out = []\n",
    "    for line in text.split(\"\\n\"):\n",
    "        m = CHOICE_LINE.match(line.strip())\n",
    "        if m:\n",
    "            out.append({\"code\": int(m.group(1)), \"label\": m.group(2).strip()})\n",
    "    return out"
   ]
  },
  {
   "cell_type": "code",
   "execution_count": 43,
   "id": "728139fd",
   "metadata": {},
   "outputs": [],
   "source": [
    "def detect_type(var, question, choices, unit_text):\n",
    "    if var.endswith(\"_op\") or \"오픈\" in (question or \"\"): return \"open\"\n",
    "    if choices: return \"single\"\n",
    "    if unit_text: return \"numeric\"\n",
    "    return \"text\""
   ]
  },
  {
   "cell_type": "code",
   "execution_count": 44,
   "id": "5fc98a71",
   "metadata": {},
   "outputs": [],
   "source": [
    "def build_codebook_json(xlsx: Path):\n",
    "    df = pd.read_excel(xlsx, dtype=str)\n",
    "    df.columns = [c.strip() for c in df.columns]\n",
    "    # 컬럼 해석\n",
    "    def pick(*cands): \n",
    "        for c in cands:\n",
    "            if c in df.columns: return c\n",
    "        return None\n",
    "    c_sec = pick(\"구분\",\"대분류\",\"섹션\")\n",
    "    c_var = pick(\"변수명\",\"변수\",\"Var\",\"var\")\n",
    "    c_q   = pick(\"질문\",\"문항\",\"Question\")\n",
    "    c_val = pick(\"변수값/단위\",\"값/단위\",\"값\",\"코드값\",\"응답값\",\"라벨\")\n",
    "    assert all([c_sec,c_var,c_q,c_val]), f\"필수 컬럼 누락: {xlsx}, columns={df.columns.tolist()}\"\n",
    "\n",
    "    df[c_sec] = df[c_sec].fillna(method=\"ffill\")\n",
    "    df[c_var] = df[c_var].astype(str).str.strip()\n",
    "    df[c_q]   = df[c_q].apply(norm_text)\n",
    "    df[c_val] = df[c_val].apply(norm_text)\n",
    "\n",
    "    data = {\n",
    "        \"meta\": {\"source_file\": xlsx.name, \"quarter\": xlsx.stem},\n",
    "        \"sections\": {},\n",
    "        \"variables\": {}\n",
    "    }\n",
    "    for _, r in df.iterrows():\n",
    "        var = norm_text(r[c_var])\n",
    "        if not var or var.lower()==\"nan\": continue\n",
    "        sec = norm_text(r[c_sec])\n",
    "        q   = norm_text(r[c_q])\n",
    "        val = norm_text(r[c_val])\n",
    "        choices = parse_choices(val)\n",
    "        unit_text = \"\" if choices else val\n",
    "        vtype = detect_type(var, q, choices, unit_text)\n",
    "\n",
    "        ent = {\"section\":sec,\"name\":var,\"label\":q,\"type\":vtype,\"unit\":(unit_text or None),\"choices\":(choices or None)}\n",
    "        data[\"variables\"][var] = ent\n",
    "        data[\"sections\"].setdefault(sec, []).append(var)\n",
    "\n",
    "    data[\"survey\"] = [{\"section\": s, \"items\":[data[\"variables\"][v] for v in vs]} for s,vs in data[\"sections\"].items()]\n",
    "    return data"
   ]
  },
  {
   "cell_type": "code",
   "execution_count": 46,
   "id": "f1f1501c",
   "metadata": {},
   "outputs": [
    {
     "name": "stderr",
     "output_type": "stream",
     "text": [
      "C:\\Users\\wsm\\AppData\\Local\\Temp\\ipykernel_12948\\153224941.py:15: FutureWarning: Series.fillna with 'method' is deprecated and will raise in a future version. Use obj.ffill() or obj.bfill() instead.\n",
      "  df[c_sec] = df[c_sec].fillna(method=\"ffill\")\n",
      "C:\\Users\\wsm\\AppData\\Local\\Temp\\ipykernel_12948\\153224941.py:15: FutureWarning: Series.fillna with 'method' is deprecated and will raise in a future version. Use obj.ffill() or obj.bfill() instead.\n",
      "  df[c_sec] = df[c_sec].fillna(method=\"ffill\")\n",
      "C:\\Users\\wsm\\AppData\\Local\\Temp\\ipykernel_12948\\153224941.py:15: FutureWarning: Series.fillna with 'method' is deprecated and will raise in a future version. Use obj.ffill() or obj.bfill() instead.\n",
      "  df[c_sec] = df[c_sec].fillna(method=\"ffill\")\n",
      "C:\\Users\\wsm\\AppData\\Local\\Temp\\ipykernel_12948\\153224941.py:15: FutureWarning: Series.fillna with 'method' is deprecated and will raise in a future version. Use obj.ffill() or obj.bfill() instead.\n",
      "  df[c_sec] = df[c_sec].fillna(method=\"ffill\")\n"
     ]
    }
   ],
   "source": [
    "# 4) 변환 실행\n",
    "created = []\n",
    "for p in file_paths:\n",
    "    if not p.exists():\n",
    "        print(f\"[WARN] Not found: {p}\")\n",
    "        continue\n",
    "    obj = build_codebook_json(p)\n",
    "    out_path = out_dir / (p.stem + \".json\")\n",
    "    out_path.write_text(json.dumps(obj, ensure_ascii=False, indent=2), encoding=\"utf-8\")\n",
    "    created.append(out_path)"
   ]
  },
  {
   "cell_type": "code",
   "execution_count": 47,
   "id": "fc65d8aa",
   "metadata": {},
   "outputs": [
    {
     "name": "stdout",
     "output_type": "stream",
     "text": [
      "created: ['d:\\\\workspace\\\\Bus_suwon\\\\output\\\\codebooks\\\\2024년 3분기 패널조사 데이터_코드북.json', 'd:\\\\workspace\\\\Bus_suwon\\\\output\\\\codebooks\\\\2024년 4분기 패널조사 데이터_코드북.json', 'd:\\\\workspace\\\\Bus_suwon\\\\output\\\\codebooks\\\\2025년 1분기 패널조사_코드북.json', 'd:\\\\workspace\\\\Bus_suwon\\\\output\\\\codebooks\\\\2025년 2분기 패널조사_코드북.json']\n",
      "combined: d:\\workspace\\Bus_suwon\\output\\codebooks\\ALL_quarters_codebook.json\n"
     ]
    }
   ],
   "source": [
    "# 5) 통합본\n",
    "combined = {\"meta\":{\"files\":[x.name for x in created]}, \"quarters\": {}}\n",
    "for p in created:\n",
    "    combined[\"quarters\"][p.stem] = json.loads(p.read_text(encoding=\"utf-8\"))\n",
    "\n",
    "combined_path = out_dir / \"ALL_quarters_codebook.json\"\n",
    "combined_path.write_text(json.dumps(combined, ensure_ascii=False, indent=2), encoding=\"utf-8\")\n",
    "\n",
    "print(\"created:\", [str(x) for x in created])\n",
    "print(\"combined:\", str(combined_path))"
   ]
  },
  {
   "cell_type": "code",
   "execution_count": null,
   "id": "10843b0b",
   "metadata": {},
   "outputs": [],
   "source": []
  },
  {
   "cell_type": "code",
   "execution_count": null,
   "id": "8994ceb6",
   "metadata": {},
   "outputs": [],
   "source": []
  }
 ],
 "metadata": {
  "kernelspec": {
   "display_name": "venv",
   "language": "python",
   "name": "python3"
  },
  "language_info": {
   "codemirror_mode": {
    "name": "ipython",
    "version": 3
   },
   "file_extension": ".py",
   "mimetype": "text/x-python",
   "name": "python",
   "nbconvert_exporter": "python",
   "pygments_lexer": "ipython3",
   "version": "3.10.11"
  }
 },
 "nbformat": 4,
 "nbformat_minor": 5
}
