{
 "cells": [
  {
   "cell_type": "markdown",
   "id": "fd065da7",
   "metadata": {},
   "source": [
    "# 10_likert — 리커트 분석"
   ]
  },
  {
   "cell_type": "code",
   "execution_count": null,
   "id": "60a16845",
   "metadata": {},
   "outputs": [],
   "source": [
    "%run 00_config.ipynb\n",
    "import pandas as pd, numpy as np\n",
    "\n",
    "def reverse(series, max_scale): return max_scale + 1 - series\n",
    "def tnb_masks(series, scale):\n",
    "    rule = TNB_RULE[scale]\n",
    "    return series.isin(rule[\"bottom\"]), series.isin(rule[\"neutral\"]), series.isin(rule[\"top\"])\n",
    "\n",
    "df = pd.read_excel(DATA_PATH)\n",
    "w = choose_weight(df)\n",
    "\n",
    "# 역코딩(q18,q19)\n",
    "for col, mx in LIKERT_REVERSE.items():\n",
    "    if col in df.columns:\n",
    "        df[col] = reverse(df[col], mx)\n",
    "\n",
    "likert_all = [c for c in (LIKERT_7 + LIKERT_5) if c in df.columns]\n",
    "\n",
    "rows = []\n",
    "for col in likert_all:\n",
    "    scale = 7 if col in LIKERT_7 else 5\n",
    "    s = df[col]\n",
    "    b,n,t = tnb_masks(s, scale)\n",
    "    valid = s.notna()\n",
    "    wv = w[valid]; wsum = wv.sum()\n",
    "    wb = (w[b & valid]).sum()/wsum*100 if wsum>0 else np.nan\n",
    "    wn = (w[n & valid]).sum()/wsum*100 if wsum>0 else np.nan\n",
    "    wt = (w[t & valid]).sum()/wsum*100 if wsum>0 else np.nan\n",
    "    ub = (b & valid).mean()*100 if valid.any() else np.nan\n",
    "    un = (n & valid).mean()*100 if valid.any() else np.nan\n",
    "    ut = (t & valid).mean()*100 if valid.any() else np.nan\n",
    "    rows.append({\"variable\": col, \"scale\": scale, \"reverse_applied\": col in LIKERT_REVERSE,\n",
    "                 \"valid_n\": int(valid.sum()),\n",
    "                 \"weighted_bottom2_%\": round(wb,2), \"weighted_neutral_%\": round(wn,2),\n",
    "                 \"weighted_top2_%\": round(wt,2), \"weighted_NSS_pp\": round((wt-wb),2) if pd.notna(wt) and pd.notna(wb) else np.nan,\n",
    "                 \"unweighted_bottom2_%\": round(ub,2), \"unweighted_neutral_%\": round(un,2),\n",
    "                 \"unweighted_top2_%\": round(ut,2), \"unweighted_NSS_pp\": round((ut-ub),2) if pd.notna(ut) and pd.notna(ub) else np.nan})\n",
    "\n",
    "likert_summary = pd.DataFrame(rows).sort_values(\"variable\")\n",
    "\n",
    "# q5 합성 및 α\n",
    "q5_items = [c for c in [\"q5_1\",\"q5_2\",\"q5_3\",\"q5_4\",\"q5_5\"] if c in df.columns]\n",
    "alpha_q5 = cronbach_alpha(df[q5_items]) if q5_items else np.nan\n",
    "df[\"q5_scale_mean\"] = df[q5_items].mean(axis=1) if q5_items else np.nan\n",
    "\n",
    "likert_summary.to_csv(OUT_DIR/\"likert_summary.csv\", index=False, encoding=\"utf-8-sig\")\n",
    "df[[c for c in likert_all]+([\"q5_scale_mean\"] if \"q5_scale_mean\" in df.columns else [])]\\\n",
    "  .to_csv(OUT_DIR/\"likert_data_extracted.csv\", index=False, encoding=\"utf-8-sig\")\n",
    "\n",
    "print(\"alpha(q5):\", round(alpha_q5,3))\n",
    "likert_summary.head(10)\n"
   ]
  }
 ],
 "metadata": {
  "kernelspec": {
   "display_name": "venv",
   "language": "python",
   "name": "python3"
  },
  "language_info": {
   "name": "python",
   "version": "3.13.6"
  }
 },
 "nbformat": 4,
 "nbformat_minor": 5
}
