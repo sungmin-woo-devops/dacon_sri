{
 "cells": [
  {
   "cell_type": "code",
   "execution_count": 5,
   "id": "5d771130",
   "metadata": {},
   "outputs": [],
   "source": [
    "import pandas as pd\n",
    "from pathlib import Path"
   ]
  },
  {
   "cell_type": "code",
   "execution_count": 6,
   "id": "6e8fb51c",
   "metadata": {},
   "outputs": [],
   "source": [
    "DATA = Path.cwd() / \"data\" / \"internal\" / \"2. SRI시민패널조사\" / \"2024년 3분기 패널조사\" / \"(공개용) 2024년 3분기 패널조사 데이터(가중치).xlsx\""
   ]
  },
  {
   "cell_type": "code",
   "execution_count": 8,
   "id": "25bce0a8",
   "metadata": {},
   "outputs": [
    {
     "name": "stdout",
     "output_type": "stream",
     "text": [
      "   ID  GU  resi_y  resi_m   q1   q2   q3  q3_1_1  q3_1_2  q3_1_3  ...  DM10  \\\n",
      "0   1   1     8.0     1.0  5.0  5.0  5.0     1.0     2.0     4.0  ...   1.0   \n",
      "1   2   1    40.0     0.0  5.0  6.0  3.0     NaN     NaN     NaN  ...   1.0   \n",
      "2   3   4    30.0     5.0  3.0  3.0  4.0     NaN     NaN     NaN  ...   1.0   \n",
      "3   4   1     7.0    11.0  3.0  5.0  4.0     NaN     NaN     NaN  ...   1.0   \n",
      "4   5   1     4.0    10.0  4.0  4.0  4.0     NaN     NaN     NaN  ...   2.0   \n",
      "\n",
      "   DM11  DM12  DM12_op  DM13  DM14  DM14_op DM15      wg      ws  \n",
      "0   1.0   3.0      NaN   8.0   1.0      NaN  1.0  267.21  0.4692  \n",
      "1   1.0   3.0      NaN   8.0   1.0      NaN  1.0  286.97  0.5039  \n",
      "2   1.0   4.0      NaN   5.0   1.0      NaN  1.0  216.81  0.3807  \n",
      "3   1.0   3.0      NaN   4.0   2.0      NaN  2.0  276.17  0.4849  \n",
      "4   NaN   4.0      NaN   6.0   4.0      NaN  1.0  198.29  0.3482  \n",
      "\n",
      "[5 rows x 88 columns]\n",
      "(1784, 88)\n"
     ]
    }
   ],
   "source": [
    "# Read Excel file\n",
    "df = pd.read_excel(DATA, sheet_name=\"data\")\n",
    "\n",
    "# Save to CSV with UTF-8 encoding\n",
    "df.to_csv(\"survey_data.csv\", encoding=\"utf-8-sig\", index=False)\n",
    "\n",
    "# Verify the output\n",
    "print(df.head())\n",
    "print(df.shape)  # Should return (1785, 89)"
   ]
  },
  {
   "cell_type": "code",
   "execution_count": null,
   "id": "f1682b0a",
   "metadata": {},
   "outputs": [
    {
     "name": "stdout",
     "output_type": "stream",
     "text": [
      "ID               0\n",
      "GU               0\n",
      "resi_y           3\n",
      "resi_m           4\n",
      "q1               1\n",
      "q2               1\n",
      "q3               1\n",
      "q3_1_1         778\n",
      "q3_1_2         778\n",
      "q3_1_3         778\n",
      "q4               3\n",
      "q5_1             3\n",
      "q5_2             3\n",
      "q5_3             3\n",
      "q5_4             3\n",
      "q5_5             3\n",
      "q6               3\n",
      "q6_op         1780\n",
      "q7               3\n",
      "q8               3\n",
      "q9               3\n",
      "q9_1           800\n",
      "q9_2           800\n",
      "q9_2_op       1783\n",
      "q3_3_1         800\n",
      "q3_3_2         800\n",
      "q3_3_3         800\n",
      "q3_3_4         800\n",
      "q3_3_5         800\n",
      "q3_3_6         800\n",
      "q3_3_7         800\n",
      "q3_3_8         800\n",
      "q3_3_9         800\n",
      "q3_3_10        800\n",
      "q3_3_11        800\n",
      "q3_3_12        800\n",
      "q3_3_13        800\n",
      "q3_3_14        800\n",
      "q3_3_15        800\n",
      "q3_3_16        800\n",
      "q3_3_16_op    1780\n",
      "q9_4           800\n",
      "q9_5           800\n",
      "q9_5_op       1783\n",
      "q10            987\n",
      "q10_op        1776\n",
      "q11_1            3\n",
      "q11_1_op      1784\n",
      "q11_2            3\n",
      "q11_2_op      1784\n",
      "q12              4\n",
      "q13              5\n",
      "q13_1          849\n",
      "q13_2          851\n",
      "q14              5\n",
      "q14_op        1775\n",
      "q15              5\n",
      "q15_op        1773\n",
      "q16              5\n",
      "q16_op        1779\n",
      "q17              5\n",
      "q17_op        1783\n",
      "q18              5\n",
      "q19              5\n",
      "q20              5\n",
      "q21_op        1491\n",
      "DM1              0\n",
      "DM2              0\n",
      "DM3              5\n",
      "DM4              5\n",
      "DM5              6\n",
      "DM6              5\n",
      "DM7              7\n",
      "DM8            958\n",
      "DM9_1          958\n",
      "DM9_2         1588\n",
      "DM9_3         1768\n",
      "DM9_4         1782\n",
      "DM10             7\n",
      "DM11           452\n",
      "DM12             7\n",
      "DM12_op       1745\n",
      "DM13             7\n",
      "DM14             7\n",
      "DM14_op       1784\n",
      "DM15             8\n",
      "wg               0\n",
      "ws               0\n"
     ]
    }
   ],
   "source": [
    "print(df.isna().sum().to_string())"
   ]
  },
  {
   "cell_type": "code",
   "execution_count": null,
   "id": "7319b155",
   "metadata": {},
   "outputs": [],
   "source": []
  }
 ],
 "metadata": {
  "kernelspec": {
   "display_name": "venv",
   "language": "python",
   "name": "python3"
  },
  "language_info": {
   "codemirror_mode": {
    "name": "ipython",
    "version": 3
   },
   "file_extension": ".py",
   "mimetype": "text/x-python",
   "name": "python",
   "nbconvert_exporter": "python",
   "pygments_lexer": "ipython3",
   "version": "3.10.11"
  }
 },
 "nbformat": 4,
 "nbformat_minor": 5
}
